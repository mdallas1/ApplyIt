{
  "cells": [
    {
      "cell_type": "markdown",
      "metadata": {
        "id": "view-in-github",
        "colab_type": "text"
      },
      "source": [
        "<a href=\"https://colab.research.google.com/github/mdallas1/ApplyIt_Numerical_Math/blob/main/org_meeting_06122022_blank.ipynb\" target=\"_parent\"><img src=\"https://colab.research.google.com/assets/colab-badge.svg\" alt=\"Open In Colab\"/></a>"
      ]
    },
    {
      "cell_type": "markdown",
      "id": "74f2919e",
      "metadata": {
        "id": "74f2919e"
      },
      "source": [
        "## **Introduction**\n",
        "\n",
        "The goal of the two exercises below are to solve a linear system using three different methods, and then to numercially approximate an integral using the composite midpoint and composite simpson rules. \n",
        "\n",
        "#### **Solving a Linear System**\n",
        "\n",
        "The three methods for solving a linear system $Ax=b$ featured here are direct inversion, LU factorization, and QR factorization. Direct inversion is exactly what it sounds like. The inverse of the matrix $A$ is computed and then $x=A^{-1}b$. In an LU factorization, $A$ is factored into the product of a lower triangular matrix $L$ and an upper triangular matrix $U$. This essentially Gaussian elimination. Letting $y=Ux$, the system $Ax=b$ becomes $Ly=b$. Now one solves $Ly=b$, and then $Ux=y$ to compute $x$. Similarly, a QR factorization transforms $A$ into the product of two \"simpler\" matrices, but here $Q$ is an orthogonal matrix, i.e., $Q^TQ=I$, and $R$ is an upper triangular matrix. Letting $y=Rx$, one can now solve $Qy=b$, then $Rx=y$ to compute $x$. \n",
        "\n",
        "Python has these methods built into the SciPy library. Click the links below for more information.\n",
        "\n",
        "[la.inv](https://numpy.org/devdocs/reference/generated/numpy.linalg.inv.html)\n",
        "\n",
        "[la.lu_factor()](https://docs.scipy.org/doc/scipy/reference/generated/scipy.linalg.lu_factor.html)\n",
        "\n",
        "[la.lu_solve()](https://docs.scipy.org/doc/scipy/reference/generated/scipy.linalg.lu_solve.html)\n",
        "\n",
        "[la.qr()](https://docs.scipy.org/doc/scipy/reference/generated/scipy.linalg.qr.html)\n",
        "\n",
        "Further reading: \n",
        "\n",
        "[Numerically inverting](https://gregorygundersen.com/blog/2020/12/09/matrix-inversion/)\n",
        "\n",
        "[LU decomposition](https://johnfoster.pge.utexas.edu/numerical-methods-book/LinearAlgebra_LU.html)\n",
        "\n",
        "[QR decomposition](https://bvanderlei.github.io/jupyter-guide-to-linear-algebra/QR_Factorization.html)\n",
        "\n",
        "#### **Numerical Integration**\n",
        "\n",
        "We'll implement the composite Simpson and midpoint rules to solve an integral arising in the study of optics, and compare how fast the error increases as the number of subintervals increase. Both of these methods can be derived by integrating the appropriate [interpolating polynomial](https://en.wikipedia.org/wiki/Interpolation#Piecewise_constant_interpolation) of $f$ at the nodes. The midpoint rule arises from the degree 0 interpolant, whereas Simpson's rule comes from the quadratic interpolant. Python does have the composite simpson rule implemented as **scipy.integrate.simp**. Below we import this as **simp** (click [here](https://docs.scipy.org/doc/scipy/reference/generated/scipy.integrate.simpson.html) for more info). \n",
        "\n",
        "To be more concrete, suppose we want to integrate $f$ over the interval $[a,b]$. Partition $[a,b]$ into $N$ subintervals $[x_i,x_{i+1}]$, $i=0,1,...,N-1$, where $x_{i+1}-x_i = (b-a)/N=:h$.  The we get the following quadrature rules: \n",
        "\n",
        "**Composite Midpoint:** $\\int_a^b f(x)\\,dx \\approx h\\sum_{i=0}^{N-1} f\\big(\\frac{x_i+x_{i+1}}{2}\\big)$\n",
        "\n",
        "**Composite Simpson's Rule:** for $i=1,...,N-1$, \n",
        "\n",
        "$\\int_{x_{i-1}}^{x_{i+1}} f(x)\\,dx\\approx \\frac{h}{3} \\bigg(f(x_{i-1})+4f(x_i)+f(x_{i+1})\\bigg)$.\n",
        "\n",
        "Summing over $i$ we get\n",
        "\n",
        "$\\frac{h}{3}\\bigg( f(x_0)+4\\sum_{i \\text{ odd}}^{N-1} f(x_i)+2\\sum_{i \\text{ even}}^{N-2}f(x_i)+f(x_N)\\bigg)$.\n",
        "\n",
        "\n",
        "Further reading: \n",
        "\n",
        "[Composite Simpson's rule](https://pythonnumericalmethods.berkeley.edu/notebooks/chapter21.04-Simpsons-Rule.html)\n",
        "\n",
        "[Composite Midpoint rule](http://hplgit.github.io/prog4comp/doc/pub/._p4c-solarized-Python017.html)"
      ]
    },
    {
      "cell_type": "markdown",
      "id": "b289f34b",
      "metadata": {
        "id": "b289f34b"
      },
      "source": [
        "==================================================================================================================="
      ]
    },
    {
      "cell_type": "markdown",
      "source": [],
      "metadata": {
        "id": "iluxAekLvWXZ"
      },
      "id": "iluxAekLvWXZ"
    },
    {
      "cell_type": "markdown",
      "id": "af59d11b",
      "metadata": {
        "id": "af59d11b"
      },
      "source": [
        "## **\"Solving\" a Hilbert system**\n",
        "\n",
        "The system we'll attempt to solve involves the so called [Hilbert matrix](https://en.wikipedia.org/wiki/Hilbert_matrix). It's a notoriously [ill-conditioned](https://en.wikipedia.org/wiki/Condition_number) matrix, which means solving systems with it can be very difficult. The point of this exercise is not to solve this system to high precision, rather the goal is to observe how the three methods mentioned above differ in performance. Starting with $n=10$, increase the dimension of the system and observe how the error changes in the three methods. "
      ]
    },
    {
      "cell_type": "code",
      "execution_count": null,
      "id": "5544e15d",
      "metadata": {
        "id": "5544e15d"
      },
      "outputs": [],
      "source": [
        "import numpy as np\n",
        "import scipy.linalg as la\n",
        "import matplotlib.pyplot as plt\n",
        "from scipy.integrate import simpson as simp\n",
        "from math import exp as exp\n",
        "from time import process_time \n",
        "\n",
        "#set dimension of Hilbert matrix. \n",
        "n = 10\n",
        "\n",
        "\n",
        "#Define Hilbert matrix H\n",
        "v = np.array(range(1,2*n))\n",
        "v = 1/v\n",
        "H = la.hankel(v[0:n],v[n-1:len(v)])"
      ]
    },
    {
      "cell_type": "code",
      "execution_count": null,
      "id": "f9b8deb9",
      "metadata": {
        "id": "f9b8deb9"
      },
      "outputs": [],
      "source": [
        "#--------------------------------------------------------------------------------\n",
        "#In this block a system Hx=b is setup so that the solution is x=(1,1,...,1)^T\n",
        "#--------------------------------------------------------------------------------\n",
        "xsol = np.ones(n) \n",
        "b = H@xsol "
      ]
    },
    {
      "cell_type": "code",
      "execution_count": null,
      "id": "cda92447",
      "metadata": {
        "id": "cda92447"
      },
      "outputs": [],
      "source": [
        "#--------------------------------------------------------------------------------\n",
        "#In this block, solve the system by inverting H directly and print the error \n",
        "#--------------------------------------------------------------------------------\n"
      ]
    },
    {
      "cell_type": "code",
      "execution_count": 2,
      "id": "a759bba0",
      "metadata": {
        "id": "a759bba0"
      },
      "outputs": [],
      "source": [
        "#-------------------------------------------------------------------------------------------\n",
        "#Solve the system using an LU factorization. You may write your own function that does this \n",
        "#or use the built in function lu_factor() and lu_solve(). These were imported with \n",
        "#\"scipy.linalg as la\"\n",
        "#-------------------------------------------------------------------------------------------\n"
      ]
    },
    {
      "cell_type": "code",
      "execution_count": null,
      "id": "cc000be4",
      "metadata": {
        "id": "cc000be4"
      },
      "outputs": [],
      "source": [
        "#-------------------------------------------------------------------------------------------\n",
        "#Solve by the QR factorization method. As with the LU method, you can use python's built \n",
        "#in function or write your own.\n",
        "#-------------------------------------------------------------------------------------------\n"
      ]
    },
    {
      "cell_type": "markdown",
      "id": "f6e6e0fb",
      "metadata": {
        "id": "f6e6e0fb"
      },
      "source": [
        "==================================================================================================================="
      ]
    },
    {
      "cell_type": "markdown",
      "id": "6321c211",
      "metadata": {
        "id": "6321c211"
      },
      "source": [
        "## **Numerical Integration**\n",
        "\n",
        "This integral is taken from Quarteroni, Saleri, and Gervasio's text *Scientific Computing with MATLAB and Octave* (the pdf is free to [download](https://link.springer.com/book/10.1007/978-3-642-45367-0) at SpringerLink). Evidently it originates from the study of optics. \n",
        "    Let $T=213$. Use the composite midpoint and Simpson rules to compute the integral\n",
        "\\begin{align}\n",
        "    E(T) = 2.39\\cdot 10^{-11} \\int_{3\\cdot 10^{-4}}^{14\\cdot 10^{-4}} \\frac{dx}{x^5(e^{1.432\\,/\\,(Tx)}-1)}.\n",
        "\\end{align}\n",
        "Plot the results vs number of subintervals, and compare the error as the number of subintervals increases. Use \n",
        "\\begin{align*} x_{\\text{sol}} = 0.0206908554816539146 \\end{align*}\n",
        "as the true value."
      ]
    },
    {
      "cell_type": "code",
      "execution_count": null,
      "id": "75da93fc",
      "metadata": {
        "id": "75da93fc"
      },
      "outputs": [],
      "source": [
        "#---------------------------------------------------------------\n",
        "#Compute Integral using composite midpoint and composite Simpson\n",
        "#---------------------------------------------------------------\n"
      ]
    },
    {
      "cell_type": "code",
      "execution_count": null,
      "id": "6d99436e",
      "metadata": {
        "id": "6d99436e"
      },
      "outputs": [],
      "source": [
        "#-----------------------------\n",
        "#Plot results\n",
        "#-----------------------------\n"
      ]
    }
  ],
  "metadata": {
    "kernelspec": {
      "display_name": "Python 3 (ipykernel)",
      "language": "python",
      "name": "python3"
    },
    "language_info": {
      "codemirror_mode": {
        "name": "ipython",
        "version": 3
      },
      "file_extension": ".py",
      "mimetype": "text/x-python",
      "name": "python",
      "nbconvert_exporter": "python",
      "pygments_lexer": "ipython3",
      "version": "3.9.12"
    },
    "colab": {
      "provenance": [],
      "include_colab_link": true
    }
  },
  "nbformat": 4,
  "nbformat_minor": 5
}
