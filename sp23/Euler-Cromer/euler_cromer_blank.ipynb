{
 "cells": [
  {
   "attachments": {},
   "cell_type": "markdown",
   "id": "c01761dd",
   "metadata": {},
   "source": [
    "Exercise 1: Write a program to compare the standard Euler method and the Euler-Comer method applied to a particle travling in one dimension. Given a force $F(x) = -kx-bx^3$, Newton's equation takes the form \n",
    "$$\\begin{align*} \\dot{v}&=-kx-bx^3\\\\ \\dot{x}&=v \\end{align*}$$\n",
    "\n",
    "Start with $k=1$ and $b=4$. Plot velocity $v$ vs $x$, and $x$ vs time $t$. "
   ]
  },
  {
   "cell_type": "code",
   "execution_count": null,
   "id": "2d54c16a",
   "metadata": {},
   "outputs": [],
   "source": []
  },
  {
   "attachments": {},
   "cell_type": "markdown",
   "id": "c1d1621e",
   "metadata": {},
   "source": [
    "Exericse 2: Apply Euler-Cromer to the 2D problem of a mass $m$ under the influence of gravity from two other bodies $M_1$ and $M_2$. Let $R$ denote the distance from $m$ to $M_1$, $d$ the distance between $m$ and $M_2$, and $D$ the distance between $M_1$ and $M_2$. The equations of motion describing the position of mass $m$ at timne $t$ are \n",
    "\n",
    "$$\\begin{align*}\\ddot{x} &= -\\frac{GM_1}{R^3}x-\\frac{GM_2}{d^3}(x-D)\\\\\n",
    "\\ddot{y} &= -\\frac{GM_1}{R^3}y-\\frac{GM_2}{d^3}y. \\end{align*}$$\n",
    "\n",
    "Note that \n",
    "\n",
    "$$\\begin{align*} R&=(x^2+y^2)^{1/2}\\\\ d&=\\big( (x-D)^2+y^2 \\big)^{1/2}. \\end{align*}$$ \n",
    "\n",
    "For details, see [Euler's three-body problem](https://github.com/mdallas1/ApplyIt/tree/main/sp23/Euler-Cromer/papers/wild79.pdf). You may assume for now that $M_1=M_2$ and $GM=10$. Suggested initial conditions can be found in [Stable solutions using the Euler approximation](https://github.com/mdallas1/ApplyIt/tree/main/sp23/Euler-Cromer/papers/cromer81.pdf). Two particularly nice paths result from the initial conditions $y(0)=0$, $\\dot{x}(0)=0$, $\\dot{y}(0)=2.3$, and choosing $x(0)=-2$ or $x(0)=-4$. Take $D=5.93$. "
   ]
  },
  {
   "cell_type": "code",
   "execution_count": null,
   "id": "4fac00cf",
   "metadata": {},
   "outputs": [],
   "source": []
  },
  {
   "attachments": {},
   "cell_type": "markdown",
   "id": "e295d9ca",
   "metadata": {},
   "source": [
    "Exercise 3: Write a class or function that, given $M_1$, $M_2$, $D$, and $G$, solves the corresponding three body problem with the standard Euler method or Euler-Cromer (user's choice). Once this is done, add the *midpoint approximation* and *half-step approximation*.These methods can all be found in [Euler's three-body problem](https://github.com/mdallas1/ApplyIt/tree/main/sp23/Euler-Cromer/papers/wild79.pdf)."
   ]
  },
  {
   "cell_type": "code",
   "execution_count": null,
   "id": "f6f54803",
   "metadata": {},
   "outputs": [],
   "source": []
  }
 ],
 "metadata": {
  "kernelspec": {
   "display_name": "base",
   "language": "python",
   "name": "python3"
  },
  "language_info": {
   "codemirror_mode": {
    "name": "ipython",
    "version": 3
   },
   "file_extension": ".py",
   "mimetype": "text/x-python",
   "name": "python",
   "nbconvert_exporter": "python",
   "pygments_lexer": "ipython3",
   "version": "3.9.12 (main, Apr  5 2022, 01:53:17) \n[Clang 12.0.0 ]"
  },
  "vscode": {
   "interpreter": {
    "hash": "db00eca1dd8e8d2ddfa2078dc497847613d89166d66c6611f973950f31d581e5"
   }
  }
 },
 "nbformat": 4,
 "nbformat_minor": 5
}
