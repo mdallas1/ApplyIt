{
 "cells": [
  {
   "cell_type": "code",
   "execution_count": null,
   "id": "33808bd5",
   "metadata": {},
   "outputs": [],
   "source": [
    "#Import numpy and matplotlib.pyplot"
   ]
  },
  {
   "attachments": {},
   "cell_type": "markdown",
   "id": "c01761dd",
   "metadata": {},
   "source": [
    "Exercise 1: Write a program to compare the standard Euler method and the Euler-Comer method applied to a particle travling in one dimension. Given a force $F(x) = -kx-bx^3$, Newton's equation takes the form \n",
    "$$\\begin{align*} \\dot{v}&=-kx-bx^3\\\\ \\dot{x}&=v \\end{align*}$$\n",
    "\n",
    "Start with $k=1$ and $b=4$. Plot velocity $v$ vs $x$, and $x$ vs time $t$. "
   ]
  },
  {
   "cell_type": "code",
   "execution_count": null,
   "id": "2d54c16a",
   "metadata": {},
   "outputs": [],
   "source": [
    "#Define the force "
   ]
  },
  {
   "cell_type": "code",
   "execution_count": null,
   "id": "9f8a9352",
   "metadata": {},
   "outputs": [],
   "source": [
    "#=============================\n",
    "#Euler Method\n",
    "#=============================\n",
    "\n",
    "#Initialize arrays for position, velocity, and time data to plot later\n",
    "\n",
    "#Set Initial Conditions by assigning values to position[0] and velocity[0]\n",
    "\n"
   ]
  },
  {
   "cell_type": "code",
   "execution_count": null,
   "id": "0dedb34d",
   "metadata": {},
   "outputs": [],
   "source": [
    "#Define a step length \\Delta t\n",
    "\n",
    "\n",
    "#Define number of steps \n",
    "\n",
    "\n",
    "#Write loop implementing Euler Method\n"
   ]
  },
  {
   "cell_type": "code",
   "execution_count": null,
   "id": "43076a23",
   "metadata": {},
   "outputs": [],
   "source": [
    "#Plot the velocity vs position\n",
    "\n",
    "#Plot position vs time"
   ]
  },
  {
   "cell_type": "code",
   "execution_count": null,
   "id": "c77e0162",
   "metadata": {},
   "outputs": [],
   "source": [
    "#=============================\n",
    "#Euler-Cromer Method\n",
    "#=============================\n",
    "\n",
    "#Initialize data\n",
    "\n",
    "#Set Initial Conditions"
   ]
  },
  {
   "cell_type": "code",
   "execution_count": null,
   "id": "a638c80f",
   "metadata": {},
   "outputs": [],
   "source": [
    "#Define step length\n",
    "\n",
    "#Define number of steps \n",
    "\n",
    "#Write loop implementing Euler-Cromer Method"
   ]
  },
  {
   "cell_type": "code",
   "execution_count": null,
   "id": "9d193447",
   "metadata": {},
   "outputs": [],
   "source": [
    "#Plot the velocity vs position"
   ]
  },
  {
   "attachments": {},
   "cell_type": "markdown",
   "id": "c1d1621e",
   "metadata": {},
   "source": [
    "Exericse 2: Apply Euler-Cromer to the 2D problem of a mass $m$ under the influence of gravity from two other bodies $M_1$ and $M_2$. Let $R$ denote the distance from $m$ to $M_1$, $d$ the distance between $m$ and $M_2$, and $D$ the distance between $M_1$ and $M_2$. The equations of motion describing the position of mass $m$ at timne $t$ are \n",
    "\n",
    "$$\\begin{align*}\\ddot{x} &= -\\frac{GM_1}{R^3}x-\\frac{GM_2}{d^3}(x-D)\\\\\n",
    "\\ddot{y} &= -\\frac{GM_1}{R^3}y-\\frac{GM_2}{d^3}y. \\end{align*}$$\n",
    "\n",
    "Note that \n",
    "\n",
    "$$\\begin{align*} R&=(x^2+y^2)^{1/2}\\\\ d&=\\big( (x-D)^2+y^2 \\big)^{1/2}. \\end{align*}$$ \n",
    "\n",
    "For details, see [Euler's three-body problem](https://github.com/mdallas1/ApplyIt/tree/main/sp23/Euler-Cromer/papers/wild79.pdf). You may assume for now that $M_1=M_2$ and $GM=10$. Suggested initial conditions can be found in [Stable solutions using the Euler approximation](https://github.com/mdallas1/ApplyIt/tree/main/sp23/Euler-Cromer/papers/cromer81.pdf). Two particularly nice paths result from the initial conditions $y(0)=0$, $\\dot{x}(0)=0$, $\\dot{y}(0)=2.3$, and choosing $x(0)=-2$ or $x(0)=-4$. Take $D=5.93$. "
   ]
  },
  {
   "cell_type": "code",
   "execution_count": null,
   "id": "a3e3437d",
   "metadata": {},
   "outputs": [],
   "source": [
    "#Define problem paramters G, M_1, M_2, and D."
   ]
  },
  {
   "cell_type": "code",
   "execution_count": null,
   "id": "584c8585",
   "metadata": {},
   "outputs": [],
   "source": [
    "#Define force (should have two components)"
   ]
  },
  {
   "cell_type": "code",
   "execution_count": null,
   "id": "c122711f",
   "metadata": {},
   "outputs": [],
   "source": [
    "#=============================\n",
    "#Euler-Cromer Method\n",
    "#=============================\n",
    "\n",
    "#Initialize data\n",
    "\n",
    "#Set Initial Conditions"
   ]
  },
  {
   "cell_type": "code",
   "execution_count": null,
   "id": "60b87e05",
   "metadata": {},
   "outputs": [],
   "source": [
    "#Define step length\n",
    "\n",
    "\n",
    "#Define number of steps \n",
    "\n",
    "\n",
    "#Write loop implementing Euler-Cromer Method\n"
   ]
  },
  {
   "cell_type": "code",
   "execution_count": null,
   "id": "4fac00cf",
   "metadata": {},
   "outputs": [],
   "source": [
    "#Plot solution in xy-plane"
   ]
  },
  {
   "attachments": {},
   "cell_type": "markdown",
   "id": "e295d9ca",
   "metadata": {},
   "source": [
    "Exercise 3: Write a class or function that, given $M_1$, $M_2$, $D$, and $G$, solves the corresponding three body problem with the standard Euler method or Euler-Cromer (user's choice). Once this is done, add the *midpoint approximation* and *half-step approximation*.These methods can all be found in [Euler's three-body problem](https://github.com/mdallas1/ApplyIt/tree/main/sp23/Euler-Cromer/papers/wild79.pdf)."
   ]
  },
  {
   "cell_type": "code",
   "execution_count": null,
   "id": "8e219b76",
   "metadata": {},
   "outputs": [],
   "source": [
    "######################\n",
    "#Class approach\n",
    "######################\n",
    "\n",
    "#Define a class that takes as inputs a force function F and initial conditions. An instance (object) of this class is a three-body system \n",
    "#to be solved. The methods of this class will be the various solvers mentioned above, e.g., standard Euler or the Euler-Cromer method. \n",
    "class three_body_p:\n",
    "    #The __init__ function should take as inputs the value of M_1, M_2, the distance between them, and the initial conditions of mass m. \n",
    "   \n",
    "    #Define a method to construct the force function\n",
    "\n",
    "    #Define Euler-Cromer method\n",
    "\n",
    "    #Define standard Euler method\n",
    "\n",
    "    #Define midpoint method\n",
    "\n",
    "    #Define half-step method\n",
    "   "
   ]
  },
  {
   "cell_type": "code",
   "execution_count": null,
   "id": "f6f54803",
   "metadata": {},
   "outputs": [],
   "source": [
    "#Instantiate an object using the class above and apply one of the methods tos solve it. Plot the results. "
   ]
  }
 ],
 "metadata": {
  "kernelspec": {
   "display_name": "base",
   "language": "python",
   "name": "python3"
  },
  "language_info": {
   "codemirror_mode": {
    "name": "ipython",
    "version": 3
   },
   "file_extension": ".py",
   "mimetype": "text/x-python",
   "name": "python",
   "nbconvert_exporter": "python",
   "pygments_lexer": "ipython3",
   "version": "3.9.12 (main, Apr  5 2022, 01:53:17) \n[Clang 12.0.0 ]"
  },
  "vscode": {
   "interpreter": {
    "hash": "db00eca1dd8e8d2ddfa2078dc497847613d89166d66c6611f973950f31d581e5"
   }
  }
 },
 "nbformat": 4,
 "nbformat_minor": 5
}
