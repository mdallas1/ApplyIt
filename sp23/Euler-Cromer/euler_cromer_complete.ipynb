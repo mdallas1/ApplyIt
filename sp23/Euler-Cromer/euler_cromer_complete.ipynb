{
 "cells": [
  {
   "cell_type": "code",
   "execution_count": null,
   "id": "33808bd5",
   "metadata": {},
   "outputs": [],
   "source": [
    "#Import numpy and matplotlib.pyplot\n",
    "import numpy as np\n",
    "import matplotlib.pyplot as plt"
   ]
  },
  {
   "attachments": {},
   "cell_type": "markdown",
   "id": "c01761dd",
   "metadata": {},
   "source": [
    "Exercise 1: Write a program to compare the standard Euler method and the Euler-Comer method applied to a particle travling in one dimension. Given a force $F(x) = -kx-bx^3$, Newton's equation takes the form \n",
    "$$\\begin{align*} \\dot{v}&=-kx-bx^3\\\\ \\dot{x}&=v \\end{align*}$$\n",
    "\n",
    "Start with $k=1$ and $b=4$. Plot velocity $v$ vs $x$, and $x$ vs time $t$. "
   ]
  },
  {
   "cell_type": "code",
   "execution_count": null,
   "id": "2d54c16a",
   "metadata": {},
   "outputs": [],
   "source": [
    "#Define the force \n",
    "k = 1\n",
    "b = 4\n",
    "F = lambda x: -k*x-b*(x**3)"
   ]
  },
  {
   "cell_type": "code",
   "execution_count": null,
   "id": "9f8a9352",
   "metadata": {},
   "outputs": [],
   "source": [
    "#=============================\n",
    "#Euler Method\n",
    "#=============================\n",
    "\n",
    "#Initialize arrays for position, velocity, and time data to plot later\n",
    "x_e = []\n",
    "v_e = []\n",
    "t_e = []\n",
    "\n",
    "#Set Initial Conditions by assigning values to position[0] and velocity[0]\n",
    "x_e.append(1)\n",
    "v_e.append(0)\n",
    "t_e.append(0)"
   ]
  },
  {
   "cell_type": "code",
   "execution_count": null,
   "id": "0dedb34d",
   "metadata": {},
   "outputs": [],
   "source": [
    "#Define a step length \\Delta t\n",
    "step = 0.01\n",
    "\n",
    "#Define number of steps \n",
    "N = 1200\n",
    "\n",
    "#Write loop implementing Euler Method\n",
    "for i in range(0,N):\n",
    "  f = F(x_e[i])\n",
    "  x_new = x_e[i]+v_e[i]*step\n",
    "  v_new = v_e[i]+f*step\n",
    "  x_e.append(x_new)\n",
    "  v_e.append(v_new)\n",
    "  t_e.append(t_e[i]+step)"
   ]
  },
  {
   "cell_type": "code",
   "execution_count": null,
   "id": "43076a23",
   "metadata": {},
   "outputs": [],
   "source": [
    "#Plot the velocity vs position\n",
    "plt.figure(1)\n",
    "plt.plot(x_e,v_e,'r')\n",
    "plt.xlabel('x')\n",
    "plt.ylabel('v')\n",
    "plt.title('Euler')\n",
    "\n",
    "#Plot position vs time\n",
    "plt.figure(2)\n",
    "plt.plot(t_e,x_e,'k',linewidth=3)\n",
    "plt.xlabel('t')\n",
    "plt.ylabel('x')\n",
    "\n",
    "plt.show()"
   ]
  },
  {
   "cell_type": "code",
   "execution_count": null,
   "id": "c77e0162",
   "metadata": {},
   "outputs": [],
   "source": [
    "#=============================\n",
    "#Euler-Cromer Method\n",
    "#=============================\n",
    "\n",
    "#Initialize data\n",
    "x_ec = []\n",
    "v_ec = []\n",
    "t_ec = []\n",
    "\n",
    "#Set Initial Conditions\n",
    "x_ec.append(1)\n",
    "v_ec.append(0)\n",
    "t_ec.append(0)"
   ]
  },
  {
   "cell_type": "code",
   "execution_count": null,
   "id": "a638c80f",
   "metadata": {},
   "outputs": [],
   "source": [
    "#Define step length\n",
    "step = 0.01\n",
    "\n",
    "#Define number of steps \n",
    "N = 1200\n",
    "\n",
    "#Write loop implementing Euler-Cromer Method\n",
    "for i in range(0,N):\n",
    "  f = F(x_ec[i])\n",
    "  v_new = v_ec[i]+f*step\n",
    "  x_new = x_ec[i]+v_new*step\n",
    "  x_ec.append(x_new)\n",
    "  v_ec.append(v_new)\n",
    "  t_ec.append(t_ec[i]+step)"
   ]
  },
  {
   "cell_type": "code",
   "execution_count": null,
   "id": "9d193447",
   "metadata": {},
   "outputs": [],
   "source": [
    "#Plot the velocity vs position\n",
    "plt.figure(3)\n",
    "plt.plot(x_ec,v_ec,'b')\n",
    "plt.title('Euler-Cromer')\n",
    "plt.xlabel('x')\n",
    "plt.ylabel('v')\n",
    "plt.title('Euler-Cromer')\n",
    "#plt.grid('on')\n",
    "plt.figure(4)\n",
    "plt.plot(t_ec,x_ec,'k',linewidth=3)\n",
    "plt.title('Position vs Time')\n",
    "plt.xlabel('t')\n",
    "plt.ylabel('x')\n",
    "#plt.grid('on')\n",
    "\n",
    "plt.tight_layout\n",
    "plt.show()"
   ]
  },
  {
   "attachments": {},
   "cell_type": "markdown",
   "id": "c1d1621e",
   "metadata": {},
   "source": [
    "Exericse 2: Apply Euler-Cromer to the 2D problem of a mass $m$ under the influence of gravity from two other bodies $M_1$ and $M_2$. Let $R$ denote the distance from $m$ to $M_1$, $d$ the distance between $m$ and $M_2$, and $D$ the distance between $M_1$ and $M_2$. The equations of motion describing the position of mass $m$ at timne $t$ are \n",
    "\n",
    "$$\\begin{align*}\\ddot{x} &= -\\frac{GM_1}{R^3}x-\\frac{GM_2}{d^3}(x-D)\\\\\n",
    "\\ddot{y} &= -\\frac{GM_1}{R^3}y-\\frac{GM_2}{d^3}y. \\end{align*}$$\n",
    "\n",
    "Note that \n",
    "\n",
    "$$\\begin{align*} R&=(x^2+y^2)^{1/2}\\\\ d&=\\big( (x-D)^2+y^2 \\big)^{1/2}. \\end{align*}$$ \n",
    "\n",
    "For details, see [Euler's three-body problem](https://github.com/mdallas1/ApplyIt/tree/main/sp23/Euler-Cromer/papers/wild79.pdf). You may assume for now that $M_1=M_2$ and $GM=10$. Suggested initial conditions can be found in [Stable solutions using the Euler approximation](https://github.com/mdallas1/ApplyIt/tree/main/sp23/Euler-Cromer/papers/cromer81.pdf). Two particularly nice paths result from the initial conditions $y(0)=0$, $\\dot{x}(0)=0$, $\\dot{y}(0)=2.3$, and choosing $x(0)=-2$ or $x(0)=-4$. Take $D=5.93$. "
   ]
  },
  {
   "cell_type": "code",
   "execution_count": null,
   "id": "a3e3437d",
   "metadata": {},
   "outputs": [],
   "source": [
    "#Define problem paramters G, M_1, M_2, and D.\n",
    "GM = 10\n",
    "D = 5.93"
   ]
  },
  {
   "cell_type": "code",
   "execution_count": null,
   "id": "584c8585",
   "metadata": {},
   "outputs": [],
   "source": [
    "#Define force (should have two components)\n",
    "def force(x,y):\n",
    "    R = np.sqrt(x**2+y**2)\n",
    "    d = np.sqrt(((x-D)**2)+(y**2))\n",
    "    fx = -GM*(x/(R**3)+(x-D)/(d**3))\n",
    "    fy = -GM*(y/(R**3)+y/(d**3))\n",
    "    f = np.array([fx,fy])\n",
    "    return f"
   ]
  },
  {
   "cell_type": "code",
   "execution_count": null,
   "id": "c122711f",
   "metadata": {},
   "outputs": [],
   "source": [
    "#=============================\n",
    "#Euler-Cromer Method\n",
    "#=============================\n",
    "\n",
    "#Initialize data\n",
    "x_ec = []\n",
    "y_ec = []\n",
    "vx_ec = []\n",
    "vy_ec = []\n",
    "t_ec = []\n",
    "\n",
    "#Set Initial Conditions\n",
    "x_ec.append(-2)\n",
    "y_ec.append(0)\n",
    "vx_ec.append(0)\n",
    "vy_ec.append(2.3)\n",
    "t_ec.append(0)"
   ]
  },
  {
   "cell_type": "code",
   "execution_count": null,
   "id": "60b87e05",
   "metadata": {},
   "outputs": [],
   "source": [
    "#Define step length\n",
    "step = 0.05\n",
    "\n",
    "#Define number of steps \n",
    "N = 3000\n",
    "\n",
    "#Write loop implementing Euler-Cromer Method\n",
    "for i in range(0,N):\n",
    "  f = force(x_ec[i],y_ec[i])\n",
    "  fx = f[0]\n",
    "  fy = f[1] \n",
    "  vx_new = vx_ec[i]+fx*step\n",
    "  vy_new = vy_ec[i]+fy*step\n",
    "  x_new = x_ec[i]+vx_new*step\n",
    "  y_new = y_ec[i]+vy_new*step\n",
    "  x_ec.append(x_new)\n",
    "  y_ec.append(y_new)\n",
    "  vx_ec.append(vx_new)\n",
    "  vy_ec.append(vy_new)\n",
    "  t_ec.append(t_ec[i]+step)"
   ]
  },
  {
   "cell_type": "code",
   "execution_count": null,
   "id": "4fac00cf",
   "metadata": {},
   "outputs": [],
   "source": [
    "#Plot solution in xy-plane\n",
    "plt.figure(1)\n",
    "fig1 = plt.figure(1)\n",
    "fig1.patch.set_facecolor('black')\n",
    "ax = plt.axes()\n",
    "ax.set_facecolor('black')\n",
    "plt.plot(x_ec,y_ec,'w',linewidth=0.5)\n",
    "plt.plot(0,0,'wo',5.93,0,'wo',markersize=3)\n",
    "plt.show()\n"
   ]
  },
  {
   "attachments": {},
   "cell_type": "markdown",
   "id": "e295d9ca",
   "metadata": {},
   "source": [
    "Exercise 3: Write a class or function that, given $M_1$, $M_2$, $D$, and $G$, solves the corresponding three body problem with the standard Euler method or Euler-Cromer (user's choice). Once this is done, add the *midpoint approximation* and *half-step approximation*.These methods can all be found in [Euler's three-body problem](https://github.com/mdallas1/ApplyIt/tree/main/sp23/Euler-Cromer/papers/wild79.pdf)."
   ]
  },
  {
   "cell_type": "code",
   "execution_count": null,
   "id": "8e219b76",
   "metadata": {},
   "outputs": [],
   "source": [
    "######################\n",
    "#Class approach\n",
    "######################\n",
    "\n",
    "#Define a class that takes as inputs a force function F and initial conditions. An instance (object) of this class is a three-body system \n",
    "#to be solved. The methods of this class will be the various solvers mentioned above, e.g., standard Euler or the Euler-Cromer method. \n",
    "class three_body_p:\n",
    "    #The __init__ function should take as inputs the value of M_1, M_2, the distance between them, and the initial conditions of mass m. \n",
    "    def __init__(self,mass1=0.0,mass2=0.0,dist=0.0,x0=0.0,y0=0.0,vx0=0.0,vy0=0.0):\n",
    "        self.mass1 = mass1\n",
    "        self.mass2 = mass2\n",
    "        self.dist = dist\n",
    "        self.x0 = x0\n",
    "        self.y0 = y0\n",
    "        self.vx0 = vx0\n",
    "        self.vy0 = vy0\n",
    "        #No need for input. Graviational Constant is well...constant.\n",
    "        self.G = 6.6743e-11 \n",
    "\n",
    "    def Force(self,x,y):\n",
    "        R = np.sqrt(x**2+y**2)\n",
    "        d = np.sqrt((x-self.dist)**2+(y**2))\n",
    "        fx = -(self.G*self.mass1)*x/(R**3)-(self.G*self.mass2)*(x-self.dist)/(d**3)\n",
    "        fy = -(self.G*self.mass1)*y/(R**3)-(self.G*self.mass2)*y/(d**3)\n",
    "        f = np.array([fx,fy])\n",
    "        return f\n",
    "\n",
    "    def __str__(self):\n",
    "        return f\"{self.dist},({self.x0},{self.y0}),({self.vx0},{self.vy0})\"\n",
    "\n",
    "    def euler_cromer_method(self,step=0.0,iters=0):\n",
    "        #Define step length\n",
    "        self.step = step \n",
    "        #Number of iterations\n",
    "        self.iters = iters\n",
    "        #Initial Conditions\n",
    "        x_ec = []\n",
    "        y_ec = []\n",
    "        vx_ec = []\n",
    "        vy_ec = []\n",
    "        x_ec.append(self.x0)\n",
    "        y_ec.append(self.y0)\n",
    "        vx_ec.append(self.vx0)\n",
    "        vy_ec.append(self.vy0)\n",
    "        #Write loop implementing Euler-Cromer Method for \"iters\" iterations\n",
    "        for i in range(0,self.iters):\n",
    "            f = self.Force(x_ec[i],y_ec[i])\n",
    "            fx = f[0]\n",
    "            fy = f[1] \n",
    "            vx_new = vx_ec[i]+fx*step\n",
    "            vy_new = vy_ec[i]+fy*step\n",
    "            x_new = x_ec[i]+vx_new*step\n",
    "            y_new = y_ec[i]+vy_new*step\n",
    "            x_ec.append(x_new)\n",
    "            y_ec.append(y_new)\n",
    "            vx_ec.append(vx_new)\n",
    "            vy_ec.append(vy_new)\n",
    "        #Plot solution in xy-plane\n",
    "        plt.figure(1)\n",
    "        fig1 = plt.figure(1)\n",
    "        fig1.patch.set_facecolor('black')\n",
    "        ax = plt.axes()\n",
    "        ax.set_facecolor('black')\n",
    "        plt.plot(x_ec,y_ec,'w',linewidth=0.5)\n",
    "        plt.plot(0,0,'wo',self.dist,0,'wo',markersize=3)\n",
    "        plt.show()"
   ]
  },
  {
   "cell_type": "code",
   "execution_count": null,
   "id": "f6f54803",
   "metadata": {},
   "outputs": [],
   "source": [
    "#Instantiate an object using the class above and apply one of the methods tos solve it. Plot the results. \n",
    "G = 6.6743e-11 \n",
    "\n",
    "weave_path = three_body_p(mass1=10/G,mass2=10/G,dist = 5.93,x0=-4,y0=0,vx0=0,vy0=2.3)\n",
    "weave_path.euler_cromer_method(0.2,6000)\n",
    "\n",
    "    "
   ]
  },
  {
   "cell_type": "code",
   "execution_count": null,
   "id": "8a33ca63",
   "metadata": {},
   "outputs": [],
   "source": []
  }
 ],
 "metadata": {
  "kernelspec": {
   "display_name": "base",
   "language": "python",
   "name": "python3"
  },
  "language_info": {
   "codemirror_mode": {
    "name": "ipython",
    "version": 3
   },
   "file_extension": ".py",
   "mimetype": "text/x-python",
   "name": "python",
   "nbconvert_exporter": "python",
   "pygments_lexer": "ipython3",
   "version": "3.9.12"
  },
  "vscode": {
   "interpreter": {
    "hash": "db00eca1dd8e8d2ddfa2078dc497847613d89166d66c6611f973950f31d581e5"
   }
  }
 },
 "nbformat": 4,
 "nbformat_minor": 5
}
